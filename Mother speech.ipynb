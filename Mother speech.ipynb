{
  "cells": [
    {
      "cell_type": "markdown",
      "id": "0bf81211-38f7-459e-84bb-cba57722db8a",
      "metadata": {
        "editable": true,
        "tags": [],
        "id": "0bf81211-38f7-459e-84bb-cba57722db8a"
      },
      "source": [
        "# Preliminaries\n",
        "<a href=\"https://colab.research.google.com/github/cwf2/dices-mta/blob/main/Mother%20speech.ipynb\" target=\"_parent\"><img src=\"https://colab.research.google.com/assets/colab-badge.svg\" alt=\"Open In Colab\"/></a>"
      ]
    },
    {
      "cell_type": "code",
      "execution_count": null,
      "id": "91c737cf-d2f8-4ff2-9ccd-9afbafbdbebd",
      "metadata": {
        "id": "91c737cf-d2f8-4ff2-9ccd-9afbafbdbebd"
      },
      "outputs": [],
      "source": [
        "import os\n",
        "import pandas as pd\n",
        "import requests\n",
        "from matplotlib import pyplot as plt\n",
        "import seaborn as sns\n",
        "import numpy as np\n",
        "from sklearn.decomposition import PCA\n",
        "from IPython.display import HTML"
      ]
    },
    {
      "cell_type": "markdown",
      "id": "b167530f-7af2-4846-965c-295d73eaf1e9",
      "metadata": {
        "id": "b167530f-7af2-4846-965c-295d73eaf1e9"
      },
      "source": [
        "# Data\n",
        "#### remote data    \n",
        "Pre-prepared data saved in the GitHub repo"
      ]
    },
    {
      "cell_type": "code",
      "execution_count": null,
      "id": "64cc635d-bfce-4c56-a687-f2f344da2291",
      "metadata": {
        "id": "64cc635d-bfce-4c56-a687-f2f344da2291"
      },
      "outputs": [],
      "source": [
        "local_path = 'data'\n",
        "remote_path = 'https://github.com/cwf2/dices-mta/raw/main/data/'\n",
        "data_files = ['merged.csv', 'mother-child.csv', 'mother_diction.csv']\n",
        "\n",
        "if not os.path.exists(local_path):\n",
        "    os.mkdir(local_path)\n",
        "for filename in data_files:\n",
        "    if not os.path.exists(os.path.join(local_path, filename)):\n",
        "        print(f'downloading {filename}')\n",
        "        res = requests.get(remote_path + filename, json={\"download\":\"\"})\n",
        "        if not res.ok:\n",
        "            res.raise_for_status()\n",
        "        with open(os.path.join(local_path, filename), 'wb') as f:\n",
        "            f.write(res.content)"
      ]
    },
    {
      "cell_type": "markdown",
      "id": "0dc70403-2127-491e-bba6-ec36fbc09b2b",
      "metadata": {
        "id": "0dc70403-2127-491e-bba6-ec36fbc09b2b"
      },
      "source": [
        "### token table"
      ]
    },
    {
      "cell_type": "code",
      "execution_count": null,
      "id": "6dd447b3-cf9f-4202-b2d7-1683d1f44426",
      "metadata": {
        "editable": true,
        "tags": [],
        "id": "6dd447b3-cf9f-4202-b2d7-1683d1f44426"
      },
      "outputs": [],
      "source": [
        "tokens_file = os.path.join(local_path, 'merged.csv')\n",
        "tokens = pd.read_csv(tokens_file, dtype=str)\n",
        "display(tokens)"
      ]
    },
    {
      "cell_type": "markdown",
      "id": "242d421d-ce9d-4613-9709-933f9219b7c3",
      "metadata": {
        "editable": true,
        "tags": [],
        "id": "242d421d-ce9d-4613-9709-933f9219b7c3"
      },
      "source": [
        "### List of mother-child pairs"
      ]
    },
    {
      "cell_type": "code",
      "execution_count": null,
      "id": "deb7cf0b-df5e-4c4e-b9ef-dc74d06b6a20",
      "metadata": {
        "editable": true,
        "tags": [],
        "id": "deb7cf0b-df5e-4c4e-b9ef-dc74d06b6a20"
      },
      "outputs": [],
      "source": [
        "mothers_file = os.path.join(local_path, 'mother-child.csv')\n",
        "mothers = pd.read_csv(mothers_file, sep='\\t')\n",
        "display(mothers)"
      ]
    },
    {
      "cell_type": "markdown",
      "id": "bc697fc8-2267-4b3a-be9d-07a9fa47299d",
      "metadata": {
        "editable": true,
        "tags": [],
        "id": "bc697fc8-2267-4b3a-be9d-07a9fa47299d"
      },
      "source": [
        "### Identify mother speeches\n",
        "\n",
        "This custom function checks the speaker and addressee instances of a speech against the list of mother-child pairs."
      ]
    },
    {
      "cell_type": "code",
      "execution_count": null,
      "id": "ea7cf7af-e78c-4b24-99a3-6d5ca1e409f1",
      "metadata": {
        "editable": true,
        "tags": [],
        "id": "ea7cf7af-e78c-4b24-99a3-6d5ca1e409f1"
      },
      "outputs": [],
      "source": [
        "def motherValidation(rec):\n",
        "    '''check whether any speaker-addressee combo is in the mother-child list'''\n",
        "    valid_keys = list(mothers.spkr + ':' + mothers.addr)\n",
        "\n",
        "    if rec['spkr'] is np.NaN:\n",
        "        return False\n",
        "    if rec['addr'] is np.NaN:\n",
        "        return False\n",
        "\n",
        "    for spkr in str(rec['spkr']).split(','):\n",
        "        for addr in str(rec['addr']).split(','):\n",
        "            key = f'{spkr}:{addr}'\n",
        "            if key in valid_keys:\n",
        "                return True\n",
        "\n",
        "    return False"
      ]
    },
    {
      "cell_type": "markdown",
      "id": "ec15cdf3-87a8-4309-a835-0bfed954c06c",
      "metadata": {
        "id": "ec15cdf3-87a8-4309-a835-0bfed954c06c"
      },
      "source": [
        "#### Add `mother` column\n",
        "\n",
        "Add boolean mother flag to the token table"
      ]
    },
    {
      "cell_type": "code",
      "execution_count": null,
      "id": "0d1cf3ab-7af1-40cb-96ea-7debdba87d18",
      "metadata": {
        "editable": true,
        "tags": [],
        "id": "0d1cf3ab-7af1-40cb-96ea-7debdba87d18"
      },
      "outputs": [],
      "source": [
        "# validate mother-child pairs by speech instead of by token\n",
        "by_speech = tokens.groupby(['spkr', 'addr'], sort=False).first().reset_index()\n",
        "by_speech['mother'] = by_speech.apply(motherValidation, axis=1)\n",
        "\n",
        "# apply results to the whole table\n",
        "tokens = tokens.merge(by_speech[['spkr', 'addr', 'mother']], on=['spkr', 'addr'], how='left')"
      ]
    },
    {
      "cell_type": "markdown",
      "id": "cead1e9f-7a14-41cd-8c42-3b10da70237f",
      "metadata": {
        "id": "cead1e9f-7a14-41cd-8c42-3b10da70237f"
      },
      "source": [
        "#### How many mother speeches?"
      ]
    },
    {
      "cell_type": "code",
      "execution_count": null,
      "id": "f49a59b3-c172-4f78-bb9b-8616f1e81ccf",
      "metadata": {
        "editable": true,
        "tags": [],
        "id": "f49a59b3-c172-4f78-bb9b-8616f1e81ccf"
      },
      "outputs": [],
      "source": [
        "tokens.groupby('speech_id').agg(speech_id=('speech_id', 'first'), mother=('mother', 'first')).groupby('mother').agg(count=('speech_id', 'count'))"
      ]
    },
    {
      "cell_type": "markdown",
      "id": "e1ed878c-6017-4e2f-8856-cfb942acb77d",
      "metadata": {
        "editable": true,
        "tags": [],
        "id": "e1ed878c-6017-4e2f-8856-cfb942acb77d"
      },
      "source": [
        "## Hand-selected feature sets"
      ]
    },
    {
      "cell_type": "code",
      "execution_count": null,
      "id": "3998794f-cd83-4774-9283-37f14dd97a47",
      "metadata": {
        "editable": true,
        "tags": [],
        "id": "3998794f-cd83-4774-9283-37f14dd97a47"
      },
      "outputs": [],
      "source": [
        "class_file = os.path.join('data', 'mother_diction.csv')\n",
        "lemma_class = pd.read_csv(class_file)"
      ]
    },
    {
      "cell_type": "code",
      "execution_count": null,
      "id": "3b0d1796-6f37-4aa8-a12d-26f3f36633f5",
      "metadata": {
        "editable": true,
        "tags": [],
        "id": "3b0d1796-6f37-4aa8-a12d-26f3f36633f5"
      },
      "outputs": [],
      "source": [
        "lem_dict = dict()\n",
        "\n",
        "for label in lemma_class.label.unique():\n",
        "    if not pd.isna(label):\n",
        "        lem_dict[label] = lemma_class.loc[lemma_class.label == label, 'lemma'].values\n",
        "        print(label, ':', sep=\"\")\n",
        "        print(*lem_dict[label], sep=\" \")\n",
        "        print()"
      ]
    },
    {
      "cell_type": "markdown",
      "id": "b9105bc9-4761-425c-af20-719872d57e4b",
      "metadata": {
        "editable": true,
        "tags": [],
        "id": "b9105bc9-4761-425c-af20-719872d57e4b"
      },
      "source": [
        "#### Add additional classification columns"
      ]
    },
    {
      "cell_type": "code",
      "execution_count": null,
      "id": "e0b197b3-88dc-4d8c-ab38-05b41b5bf2e2",
      "metadata": {
        "id": "e0b197b3-88dc-4d8c-ab38-05b41b5bf2e2"
      },
      "outputs": [],
      "source": [
        "# add columns for the hand-marked features\n",
        "for tag in ['family', 'pers_1s', 'pers_2s']:\n",
        "    tokens[tag] = tokens['lemma_spacy'].isin(lem_dict[tag]) | tokens['lemma_cltk'].isin(lem_dict[tag])\n",
        "\n",
        "tokens['interrog'] = tokens['lemma_spacy'].isin(lem_dict['interrog'])\n",
        "\n",
        "# combine first and second person singular personal pronouns and possessives\n",
        "tokens['pers'] = (tokens['pers_1s'] | tokens['pers_2s'])\n",
        "\n",
        "# imperatives\n",
        "tokens['imper'] = (tokens['mood_cltk'] == 'imperative') | (tokens['mood_spacy'] == 'Imp')"
      ]
    },
    {
      "cell_type": "code",
      "execution_count": null,
      "id": "323f83ee-bd29-4012-9245-c8aaf7fc7613",
      "metadata": {
        "id": "323f83ee-bd29-4012-9245-c8aaf7fc7613"
      },
      "outputs": [],
      "source": [
        "display(tokens)"
      ]
    },
    {
      "cell_type": "markdown",
      "id": "84648d9c-d36c-4ae7-91dc-0bbfa69d5888",
      "metadata": {
        "id": "84648d9c-d36c-4ae7-91dc-0bbfa69d5888"
      },
      "source": [
        "# Analysis"
      ]
    },
    {
      "cell_type": "markdown",
      "id": "3fff5ff3-cb54-482a-8c8b-0d45b0597559",
      "metadata": {
        "id": "3fff5ff3-cb54-482a-8c8b-0d45b0597559"
      },
      "source": [
        "### log odds\n",
        "\n",
        "Use log odds to rank all lemmas by their pertinence to the \"mother\" class"
      ]
    },
    {
      "cell_type": "code",
      "execution_count": null,
      "id": "89eaa08c-bc6e-4c0a-b78a-d78834b0ad1a",
      "metadata": {
        "id": "89eaa08c-bc6e-4c0a-b78a-d78834b0ad1a"
      },
      "outputs": [],
      "source": [
        "def rankFeatures(col, top=None):\n",
        "    # freq in non-mother speeches\n",
        "    freq_others = tokens.loc[~tokens['mother']].groupby(col).size().reset_index(name='count')\n",
        "    freq_others['freq'] = freq_others['count'].div(freq_others['count'].sum())\n",
        "\n",
        "    # freq in mother speeches\n",
        "    freq_mother = tokens.loc[tokens['mother']].groupby(col).size().reset_index(name='count')\n",
        "    freq_mother['freq'] = freq_mother['count'].div(freq_mother['count'].sum())\n",
        "\n",
        "    # merge the two tables, so we have mother, non-mother freqs for each feature\n",
        "    x = freq_others.merge(freq_mother, on=col, suffixes=('_others', '_mother'))\n",
        "\n",
        "    # calculate log odds\n",
        "    x['lod'] = np.log((x['freq_mother'] + 1) / (x['freq_others'] + 1))\n",
        "    x = x.sort_values('lod', ascending=False)\n",
        "\n",
        "    # optionally select just the top ranked results\n",
        "    if top is not None:\n",
        "        x = x[:top]\n",
        "\n",
        "    # map the hand-picked feature classes onto the results where applicable\n",
        "    x = x.merge(lemma_class.rename(columns={'lemma':col}), on=col, how='left')\n",
        "\n",
        "    return(x)"
      ]
    },
    {
      "cell_type": "code",
      "execution_count": null,
      "id": "32ef2e08-e067-45d6-b3e9-f1104ac90b00",
      "metadata": {
        "editable": true,
        "tags": [],
        "id": "32ef2e08-e067-45d6-b3e9-f1104ac90b00"
      },
      "outputs": [],
      "source": [
        "rankFeatures('lemma_spacy', 25)"
      ]
    },
    {
      "cell_type": "code",
      "execution_count": null,
      "id": "2825fe73-8131-4a5b-ad39-bc24f390a5c2",
      "metadata": {
        "id": "2825fe73-8131-4a5b-ad39-bc24f390a5c2"
      },
      "outputs": [],
      "source": [
        "rankFeatures('lemma_cltk', 25)"
      ]
    },
    {
      "cell_type": "markdown",
      "id": "e3d0f8c8-7190-4bc1-8af1-513838b24943",
      "metadata": {
        "id": "e3d0f8c8-7190-4bc1-8af1-513838b24943"
      },
      "source": [
        "## rolling window of 5 lines"
      ]
    },
    {
      "cell_type": "code",
      "execution_count": null,
      "id": "a22beef6-0ca9-4ed8-b7ce-f80f9e19ed58",
      "metadata": {
        "id": "a22beef6-0ca9-4ed8-b7ce-f80f9e19ed58"
      },
      "outputs": [],
      "source": [
        "results = []\n",
        "for label, group in tokens.groupby('speech_id'):\n",
        "    df = group.groupby('line_id', sort=False).agg(\n",
        "        author = ('author', 'first'),\n",
        "        work = ('work', 'first'),\n",
        "        l_fi = ('l_fi', 'first'),\n",
        "        l_la = ('l_la', 'first'),\n",
        "        spkr = ('spkr', 'first'),\n",
        "        addr = ('addr', 'first'),\n",
        "        mother = ('mother', 'first'),\n",
        "        tokens = ('token_spacy', 'count'),\n",
        "        imper = ('imper', 'sum'),\n",
        "        family = ('family', 'sum'),\n",
        "        pers = ('pers', 'sum'),\n",
        "        interrog = ('interrog', 'sum'),\n",
        "    )\n",
        "    results.append(\n",
        "        pd.DataFrame(dict(\n",
        "            speech_id = label,\n",
        "            author = df['author'],\n",
        "            work = df['work'],\n",
        "            l_fi = df['l_fi'],\n",
        "            l_la = df['l_la'],\n",
        "            spkr = df['spkr'],\n",
        "            addr = df['addr'],\n",
        "            mother = df['mother'],\n",
        "            lines = df['tokens'].rolling(window=5, min_periods=1, center=True).count(),\n",
        "            tokens = df['tokens'].rolling(window=5, min_periods=1, center=True).sum(),\n",
        "            family = df['family'].rolling(window=5, min_periods=1, center=True).sum(),\n",
        "            imper = df['imper'].rolling(window=5, min_periods=1, center=True).sum(),\n",
        "            pers = df['pers'].rolling(window=5, min_periods=1, center=True).sum(),\n",
        "            interrog = df['interrog'].rolling(window=5, min_periods=1, center=True).sum(),\n",
        "        ))\n",
        "    )\n",
        "results = pd.concat(results)\n",
        "results['imper_norm'] = results['imper'].div(results['tokens'])\n",
        "results['family_norm'] = results['family'].div(results['tokens'])\n",
        "results['pers_norm'] = results['pers'].div(results['tokens'])\n",
        "results['interrog_norm'] = results['interrog'].div(results['tokens'])\n",
        "\n",
        "results['comp'] = results['imper'] + results['family'] + results['pers'] + results['interrog']\n",
        "results['comp_norm'] = results['comp'].div(results['tokens'])"
      ]
    },
    {
      "cell_type": "markdown",
      "id": "730454c0-c6ce-403f-b227-73bc3edfd9fd",
      "metadata": {
        "id": "730454c0-c6ce-403f-b227-73bc3edfd9fd"
      },
      "source": [
        "### Top speeches by max composite score"
      ]
    },
    {
      "cell_type": "code",
      "execution_count": null,
      "id": "b6b52598-d6fb-4348-af0e-2cc768236c51",
      "metadata": {
        "id": "b6b52598-d6fb-4348-af0e-2cc768236c51"
      },
      "outputs": [],
      "source": [
        "x = results.groupby('speech_id', sort=False).agg(\n",
        "    author = ('author', 'first'),\n",
        "    work = ('work', 'first'),\n",
        "    l_fi = ('l_fi', 'first'),\n",
        "    l_la = ('l_la', 'first'),\n",
        "    spkr = ('spkr', 'first'),\n",
        "    addr = ('addr', 'first'),\n",
        "    mother = ('mother', 'first'),\n",
        "    lines = ('tokens', 'count'),\n",
        "    tokens = ('tokens', 'sum'),\n",
        "    comp_avg = ('comp', 'mean'),\n",
        "    comp_sum = ('comp', 'sum'),\n",
        "    comp_max = ('comp', 'max'),\n",
        ")\n",
        "x['loc'] = x['l_fi'] + '-' + x['l_la']\n",
        "x['comp_norm'] = x['comp_sum'] / x['tokens']\n",
        "x = x.sort_values('comp_max', ascending=False)\n",
        "x.query('comp_max>12')"
      ]
    },
    {
      "cell_type": "markdown",
      "id": "43773990-0cd9-4c58-904a-e6dca1868ba4",
      "metadata": {
        "id": "43773990-0cd9-4c58-904a-e6dca1868ba4"
      },
      "source": [
        "### max scores of mother speeches"
      ]
    },
    {
      "cell_type": "code",
      "execution_count": null,
      "id": "af11d1cb-1d85-4e43-9033-1a358a1672da",
      "metadata": {
        "id": "af11d1cb-1d85-4e43-9033-1a358a1672da"
      },
      "outputs": [],
      "source": [
        "x.loc[x['mother']]"
      ]
    },
    {
      "cell_type": "markdown",
      "id": "fe4c7200-6279-49d6-b3b4-304bb39317d7",
      "metadata": {
        "id": "fe4c7200-6279-49d6-b3b4-304bb39317d7"
      },
      "source": [
        "### distribution of scores"
      ]
    },
    {
      "cell_type": "code",
      "execution_count": null,
      "id": "6952d7ff-981e-4de0-905a-907d938ec060",
      "metadata": {
        "id": "6952d7ff-981e-4de0-905a-907d938ec060"
      },
      "outputs": [],
      "source": [
        "from matplotlib.ticker import MultipleLocator\n",
        "g = sns.catplot(\n",
        "    data = x,\n",
        "    y = 'comp_max',\n",
        "    x = 'mother',\n",
        "    hue = 'mother',\n",
        "    kind = 'box',\n",
        "    width = 0.6,\n",
        "    legend = False\n",
        ")\n",
        "g.ax.set_ylabel(\"max score\")\n",
        "g.ax.yaxis.set_major_locator(MultipleLocator(2))\n",
        "g.fig.set_figwidth(4)"
      ]
    },
    {
      "cell_type": "code",
      "execution_count": null,
      "id": "e3d0a7c1-b60c-459e-bc32-8b565b7aadb8",
      "metadata": {
        "id": "e3d0a7c1-b60c-459e-bc32-8b565b7aadb8"
      },
      "outputs": [],
      "source": [
        "g = sns.catplot(data=x, y='comp_max', x='author', hue='mother', kind='box', dodge=True)\n",
        "g.fig.set_figwidth(14)\n",
        "g.ax.tick_params(axis=\"x\", rotation=55)"
      ]
    },
    {
      "cell_type": "markdown",
      "id": "5dd5e4f6-988a-48e9-9e3e-04164dbae65e",
      "metadata": {
        "id": "5dd5e4f6-988a-48e9-9e3e-04164dbae65e"
      },
      "source": [
        "## plot individual speeches"
      ]
    },
    {
      "cell_type": "code",
      "execution_count": null,
      "id": "d2ecb06a-b747-4445-8129-af30872015c5",
      "metadata": {
        "id": "d2ecb06a-b747-4445-8129-af30872015c5"
      },
      "outputs": [],
      "source": [
        "def linePlot(speech_id):\n",
        "    mask = results['speech_id']==speech_id\n",
        "    ys = results.loc[mask, 'comp']\n",
        "\n",
        "    _, l_fi = ys.index.values[0].rsplit(':', 1)\n",
        "    _, l_la = ys.index.values[-1].rsplit(':', 1)\n",
        "    author = results.loc[mask, 'author'].iloc[0]\n",
        "    work = results.loc[mask, 'work'].iloc[0]\n",
        "    title = f\"{author} {work} {l_fi}-{l_la}\"\n",
        "\n",
        "    if '.' in l_fi:\n",
        "        _, l_fi = l_fi.rsplit('.', 1)\n",
        "    l_fi = int(l_fi)\n",
        "    xs = np.arange(l_fi, l_fi+len(ys))\n",
        "\n",
        "    avg = results['comp'].median()\n",
        "\n",
        "    fig, ax = plt.subplots(figsize=(8,5))\n",
        "    ax.plot(xs, ys)\n",
        "    ax.axhline(avg, color=sns.light_palette('#79C')[3], ls='--')\n",
        "    ax.set_ylabel('rolling composite score')\n",
        "    ax.set_xlabel('line')\n",
        "    ax.yaxis.set_major_locator(MultipleLocator(2))\n",
        "    ax.set_ylim((0,20))\n",
        "    ax.set_title(title)\n",
        "    plt.close(fig)\n",
        "    return fig\n",
        "\n",
        "def stackPlot(speech_id):\n",
        "    mask = results['speech_id']==speech_id\n",
        "    cols = ['family', 'imper', 'pers', 'interrog']\n",
        "    df = results.loc[mask, cols]\n",
        "    _, l_fi = df.index.values[0].rsplit(':', 1)\n",
        "    _, l_la = df.index.values[-1].rsplit(':', 1)\n",
        "    author = results.loc[mask, 'author'].iloc[0]\n",
        "    work = results.loc[mask, 'work'].iloc[0]\n",
        "    title = f\"{author} {work} {l_fi}-{l_la}\"\n",
        "\n",
        "    if '.' in l_fi:\n",
        "        _, l_fi = l_fi.rsplit('.', 1)\n",
        "    l_fi = int(l_fi)\n",
        "    xs = np.arange(l_fi, l_fi+len(df))\n",
        "    df['line'] = xs\n",
        "\n",
        "    avg = results['comp'].median()\n",
        "\n",
        "    ax = df.plot.area(x='line', linewidth=0, figsize=(8,5))\n",
        "    ax.axhline(avg, color='white', ls='--')\n",
        "    ax.yaxis.set_major_locator(MultipleLocator(2))\n",
        "    ax.set_ylim((0,20))\n",
        "    ax.set_title(title)\n",
        "    ax.set_ylabel('rolling score (5-line window)')\n",
        "    ax.set_xlabel('line')\n",
        "    fig = ax.figure\n",
        "    plt.close(fig)\n",
        "    return fig\n",
        "\n",
        "def hl(col):\n",
        "    return lambda string: f'<span style=\"font-weight:bold;color:{col}\">{string}</span>'\n",
        "\n",
        "def highlight(speech_id):\n",
        "    mask = tokens['speech_id']==speech_id\n",
        "    foo = pd.DataFrame(dict(\n",
        "        line_id = tokens.loc[mask, 'line_id'],\n",
        "        token = tokens.loc[mask, 'token_spacy'],\n",
        "    ))\n",
        "    foo.loc[tokens.loc[mask, 'family'], 'token'] = foo.loc[tokens.loc[mask, 'family'], 'token'].apply(hl('blue'))\n",
        "    foo.loc[tokens.loc[mask, 'imper'], 'token'] = foo.loc[tokens.loc[mask, 'imper'], 'token'].apply(hl('orange'))\n",
        "    foo.loc[tokens.loc[mask, 'pers'], 'token'] = foo.loc[tokens.loc[mask, 'pers'], 'token'].apply(hl('green'))\n",
        "    foo.loc[tokens.loc[mask, 'interrog'], 'token'] = foo.loc[tokens.loc[mask, 'interrog'], 'token'].apply(hl('red'))\n",
        "\n",
        "    html = '<table>' + '\\n'.join(foo\n",
        "        .groupby(\"line_id\", sort=False)\n",
        "        .agg(\n",
        "            loc = (\"line_id\", lambda s: '<td>' + s.iloc[0].rsplit(':', 1)[1] + '</td>'),\n",
        "            tokens = (\"token\", lambda s: '<td>' + ' '.join(s) + '<td>'),)\n",
        "        .apply(lambda row: f'<tr>{row[\"loc\"]}{row[\"tokens\"]}</tr>', axis=1)\n",
        "    ) + '</table>'\n",
        "\n",
        "    return HTML(html)\n",
        "\n",
        "def plotAndText(speech_id):\n",
        "    fig = stackPlot(speech_id)\n",
        "    html = highlight(speech_id)\n",
        "    display(fig, html)"
      ]
    },
    {
      "cell_type": "markdown",
      "id": "992b844f-1d3b-4d7d-a5f2-9d9a8ce587f0",
      "metadata": {
        "id": "992b844f-1d3b-4d7d-a5f2-9d9a8ce587f0"
      },
      "source": [
        "## Examples for the article\n",
        "\n",
        "#### Artemis to Aura"
      ]
    },
    {
      "cell_type": "code",
      "execution_count": null,
      "id": "7add9eee-b82f-42b1-b7e9-8c84d24f9221",
      "metadata": {
        "id": "7add9eee-b82f-42b1-b7e9-8c84d24f9221"
      },
      "outputs": [],
      "source": [
        "plotAndText('3665')"
      ]
    },
    {
      "cell_type": "markdown",
      "id": "81b50a70-1933-48b3-9e95-852c432bb6eb",
      "metadata": {
        "id": "81b50a70-1933-48b3-9e95-852c432bb6eb"
      },
      "source": [
        "#### Euryalus' mother"
      ]
    },
    {
      "cell_type": "code",
      "execution_count": null,
      "id": "6bbfd450-ee2d-4106-bcaa-874c564760a4",
      "metadata": {
        "id": "6bbfd450-ee2d-4106-bcaa-874c564760a4"
      },
      "outputs": [],
      "source": [
        "plotAndText('1758')"
      ]
    },
    {
      "cell_type": "markdown",
      "id": "0fc81cf6-18e5-4167-a712-fb06e63997d4",
      "metadata": {
        "id": "0fc81cf6-18e5-4167-a712-fb06e63997d4"
      },
      "source": [
        "#### Creon to Menoeceus"
      ]
    },
    {
      "cell_type": "code",
      "execution_count": null,
      "id": "3f5bbfc8-d4f4-4e35-aee7-f4810909308c",
      "metadata": {
        "id": "3f5bbfc8-d4f4-4e35-aee7-f4810909308c"
      },
      "outputs": [],
      "source": [
        "plotAndText('3210')"
      ]
    },
    {
      "cell_type": "markdown",
      "id": "858c6edf-3ff8-4733-b24a-2d1a286ff8e9",
      "metadata": {
        "id": "858c6edf-3ff8-4733-b24a-2d1a286ff8e9"
      },
      "source": [
        "#### Hecuba to Hector"
      ]
    },
    {
      "cell_type": "code",
      "execution_count": null,
      "id": "eb71b9c4-c636-4e0c-b97b-783fc31cfc7b",
      "metadata": {
        "id": "eb71b9c4-c636-4e0c-b97b-783fc31cfc7b"
      },
      "outputs": [],
      "source": [
        "plotAndText('582')"
      ]
    },
    {
      "cell_type": "markdown",
      "id": "692aed79-00e3-4c20-872e-2b7bf74c854d",
      "metadata": {
        "id": "692aed79-00e3-4c20-872e-2b7bf74c854d"
      },
      "source": [
        "#### Mary to Jesus"
      ]
    },
    {
      "cell_type": "code",
      "execution_count": null,
      "id": "692d45f5-e595-49cb-acca-f2980aaaf565",
      "metadata": {
        "id": "692d45f5-e595-49cb-acca-f2980aaaf565"
      },
      "outputs": [],
      "source": [
        "plotAndText('4558')"
      ]
    },
    {
      "cell_type": "markdown",
      "id": "929fb4cf-b7a7-4ece-88df-7b875c9320e7",
      "metadata": {
        "id": "929fb4cf-b7a7-4ece-88df-7b875c9320e7"
      },
      "source": [
        "#### Mother donkey"
      ]
    },
    {
      "cell_type": "code",
      "execution_count": null,
      "id": "8710f80e-925c-43c2-ab3d-63345d533913",
      "metadata": {
        "id": "8710f80e-925c-43c2-ab3d-63345d533913"
      },
      "outputs": [],
      "source": [
        "plotAndText('4319')"
      ]
    },
    {
      "cell_type": "markdown",
      "id": "6b50162b-b268-49f1-b514-6339c136435b",
      "metadata": {
        "id": "6b50162b-b268-49f1-b514-6339c136435b"
      },
      "source": [
        "#### Iris-Nyx"
      ]
    },
    {
      "cell_type": "code",
      "execution_count": null,
      "id": "038c1e89-8155-4e63-91e7-e92fabbb6062",
      "metadata": {
        "id": "038c1e89-8155-4e63-91e7-e92fabbb6062"
      },
      "outputs": [],
      "source": [
        "plotAndText('3501')"
      ]
    },
    {
      "cell_type": "code",
      "execution_count": null,
      "id": "c75f77df-1a39-4900-854e-4763dba84175",
      "metadata": {
        "id": "c75f77df-1a39-4900-854e-4763dba84175"
      },
      "outputs": [],
      "source": [
        "results.groupby('speech_id', sort=False).agg(\n",
        "    author = ('author', 'first'),\n",
        "    work = ('work', 'first'),\n",
        "    l_fi = ('l_fi', 'first'),\n",
        "    l_la = ('l_la', 'first'),\n",
        "    spkr = ('spkr', 'first'),\n",
        "    addr = ('addr', 'first'),\n",
        "    mother = ('mother', 'first'),\n",
        "    lines = ('tokens', 'count'),\n",
        "    tokens = ('tokens', 'sum'),\n",
        "    comp_avg = ('comp', 'mean'),\n",
        "    comp_sum = ('comp', 'sum'),\n",
        "    comp_max = ('comp', 'max'),\n",
        ").sort_values([\"comp_max\", \"comp_avg\"], ascending=False).query(\"comp_max>12\")"
      ]
    },
    {
      "cell_type": "code",
      "execution_count": null,
      "id": "dec3c7d2-0e18-4c51-80b4-fe65dcbd8ad8",
      "metadata": {
        "id": "dec3c7d2-0e18-4c51-80b4-fe65dcbd8ad8"
      },
      "outputs": [],
      "source": []
    }
  ],
  "metadata": {
    "kernelspec": {
      "display_name": "Python 3 (ipykernel)",
      "language": "python",
      "name": "python3"
    },
    "language_info": {
      "codemirror_mode": {
        "name": "ipython",
        "version": 3
      },
      "file_extension": ".py",
      "mimetype": "text/x-python",
      "name": "python",
      "nbconvert_exporter": "python",
      "pygments_lexer": "ipython3",
      "version": "3.10.14"
    },
    "colab": {
      "provenance": []
    }
  },
  "nbformat": 4,
  "nbformat_minor": 5
}