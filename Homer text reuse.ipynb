{
 "cells": [
  {
   "cell_type": "code",
   "execution_count": 1,
   "id": "f63bd520",
   "metadata": {},
   "outputs": [],
   "source": [
    "from dicesapi import DicesAPI\n",
    "from dicesapi.text import CtsAPI, Passage\n",
    "from dicesapi.jupyter import NotebookPBar\n",
    "import pandas as pd"
   ]
  },
  {
   "cell_type": "code",
   "execution_count": 6,
   "id": "5b69b8d1",
   "metadata": {},
   "outputs": [],
   "source": [
    "api = DicesAPI(\n",
    "    dices_api='http://localhost:8000/api',\n",
    "    logfile='ombretta.log'\n",
    ")\n",
    "cts = CtsAPI(dices_api=api)"
   ]
  },
  {
   "cell_type": "code",
   "execution_count": 7,
   "id": "9033d367",
   "metadata": {},
   "outputs": [],
   "source": [
    "speeches = api.getSpeeches(author_name='Homer')"
   ]
  },
  {
   "cell_type": "markdown",
   "id": "35c3cc4e",
   "metadata": {},
   "source": [
    "### Get the text"
   ]
  },
  {
   "cell_type": "code",
   "execution_count": 8,
   "id": "35861a86",
   "metadata": {},
   "outputs": [
    {
     "data": {
      "application/vnd.jupyter.widget-view+json": {
       "model_id": "cac6b806950e49b5841befd7443b8fcb",
       "version_major": 2,
       "version_minor": 0
      },
      "text/plain": [
       "HBox(children=(IntProgress(value=0, bar_style='info', max=1371), Label(value='0/1371')))"
      ]
     },
     "metadata": {},
     "output_type": "display_data"
    },
    {
     "name": "stdout",
     "output_type": "stream",
     "text": [
      "Failed: <Speech 931: Odyssey 10.456-10.465>\n"
     ]
    }
   ],
   "source": [
    "pbar = NotebookPBar(max=len(speeches))\n",
    "for s in (speeches):\n",
    "    pbar.update()\n",
    "    if not hasattr(s, 'passage') or s.passage is None:\n",
    "        s.passage = cts.getPassage(s)\n",
    "    if s.passage is None:\n",
    "        print(f'Failed: {s}')"
   ]
  },
  {
   "cell_type": "markdown",
   "id": "54ab5d4f",
   "metadata": {},
   "source": [
    "### Parse with CLTK"
   ]
  },
  {
   "cell_type": "code",
   "execution_count": 10,
   "id": "61136c36",
   "metadata": {},
   "outputs": [
    {
     "data": {
      "application/vnd.jupyter.widget-view+json": {
       "model_id": "8e4d8b8bb2ab47d8accc201ed4be526c",
       "version_major": 2,
       "version_minor": 0
      },
      "text/plain": [
       "HBox(children=(IntProgress(value=0, bar_style='info', max=1371), Label(value='0/1371')))"
      ]
     },
     "metadata": {},
     "output_type": "display_data"
    },
    {
     "ename": "AttributeError",
     "evalue": "'NoneType' object has no attribute 'runCltkPipeline'",
     "output_type": "error",
     "traceback": [
      "\u001b[0;31m---------------------------------------------------------------------------\u001b[0m",
      "\u001b[0;31mAttributeError\u001b[0m                            Traceback (most recent call last)",
      "Cell \u001b[0;32mIn[10], line 5\u001b[0m\n\u001b[1;32m      3\u001b[0m pbar\u001b[38;5;241m.\u001b[39mupdate()\n\u001b[1;32m      4\u001b[0m \u001b[38;5;28;01mif\u001b[39;00m \u001b[38;5;129;01mnot\u001b[39;00m \u001b[38;5;28mhasattr\u001b[39m(s\u001b[38;5;241m.\u001b[39mpassage, \u001b[38;5;124m'\u001b[39m\u001b[38;5;124mcltk\u001b[39m\u001b[38;5;124m'\u001b[39m) \u001b[38;5;129;01mor\u001b[39;00m s\u001b[38;5;241m.\u001b[39mpassage\u001b[38;5;241m.\u001b[39mcltk \u001b[38;5;129;01mis\u001b[39;00m \u001b[38;5;28;01mNone\u001b[39;00m:\n\u001b[0;32m----> 5\u001b[0m     \u001b[43ms\u001b[49m\u001b[38;5;241;43m.\u001b[39;49m\u001b[43mpassage\u001b[49m\u001b[38;5;241;43m.\u001b[39;49m\u001b[43mrunCltkPipeline\u001b[49m(remove_punct\u001b[38;5;241m=\u001b[39m\u001b[38;5;28;01mTrue\u001b[39;00m)\n\u001b[1;32m      6\u001b[0m \u001b[38;5;28;01mif\u001b[39;00m s\u001b[38;5;241m.\u001b[39mpassage\u001b[38;5;241m.\u001b[39mcltk \u001b[38;5;129;01mis\u001b[39;00m \u001b[38;5;28;01mNone\u001b[39;00m:\n\u001b[1;32m      7\u001b[0m     \u001b[38;5;28mprint\u001b[39m(\u001b[38;5;124mf\u001b[39m\u001b[38;5;124m'\u001b[39m\u001b[38;5;124mFailed: \u001b[39m\u001b[38;5;132;01m{\u001b[39;00ms\u001b[38;5;132;01m}\u001b[39;00m\u001b[38;5;124m'\u001b[39m)\n",
      "\u001b[0;31mAttributeError\u001b[0m: 'NoneType' object has no attribute 'runCltkPipeline'"
     ]
    }
   ],
   "source": [
    "pbar = NotebookPBar(max=len(speeches))\n",
    "for s in speeches:\n",
    "    pbar.update()\n",
    "    if not hasattr(s.passage, 'cltk') or s.passage.cltk is None:\n",
    "        s.passage.runCltkPipeline(remove_punct=True)\n",
    "    if s.passage.cltk is None:\n",
    "        print(f'Failed: {s}')"
   ]
  },
  {
   "cell_type": "code",
   "execution_count": null,
   "id": "56d409b8",
   "metadata": {},
   "outputs": [],
   "source": [
    "\n",
    "\n",
    "foo = {}\n",
    "bar = {}\n",
    "\n",
    "ids = [i for i,w in enumerate(s.passage.cltk.words) if w.upos != 'PUNCT']\n",
    "\n",
    "for id_index in range(len(ids)-1):\n",
    "    i = ids[id_index]\n",
    "    j = ids[id_index+1]\n",
    "    lem_i = s.passage.cltk.words[i].lemma\n",
    "    lem_j = s.passage.cltk.words[j].lemma    \n",
    "    key = tuple(sorted([lem_i, lem_j]))\n",
    "    foo.setdefault(key, [])\n",
    "    foo[key].append((i, j))"
   ]
  },
  {
   "cell_type": "code",
   "execution_count": null,
   "id": "f3d51053",
   "metadata": {},
   "outputs": [],
   "source": [
    "foo"
   ]
  },
  {
   "cell_type": "code",
   "execution_count": null,
   "id": "87af7a66",
   "metadata": {},
   "outputs": [],
   "source": []
  }
 ],
 "metadata": {
  "kernelspec": {
   "display_name": "Python 3 (ipykernel)",
   "language": "python",
   "name": "python3"
  },
  "language_info": {
   "codemirror_mode": {
    "name": "ipython",
    "version": 3
   },
   "file_extension": ".py",
   "mimetype": "text/x-python",
   "name": "python",
   "nbconvert_exporter": "python",
   "pygments_lexer": "ipython3",
   "version": "3.10.11"
  }
 },
 "nbformat": 4,
 "nbformat_minor": 5
}
